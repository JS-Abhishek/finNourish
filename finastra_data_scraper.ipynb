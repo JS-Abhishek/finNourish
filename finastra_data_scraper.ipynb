{
 "cells": [
  {
   "cell_type": "code",
   "execution_count": 1,
   "metadata": {},
   "outputs": [],
   "source": [
    "import requests\n",
    "import lxml.html as lh\n",
    "import pandas as pd\n",
    "import re"
   ]
  },
  {
   "cell_type": "code",
   "execution_count": 2,
   "metadata": {},
   "outputs": [],
   "source": [
    "URL_Dict = {'Liquid Funds':'https://cleartax.in/s/best-liquid-funds',\n",
    "            'Short term Mutual Funds':'https://cleartax.in/s/best-short-term-mutual-funds',\n",
    "            'Arbitrage Funds':'https://cleartax.in/s/arbitrage-funds'}"
   ]
  },
  {
   "cell_type": "code",
   "execution_count": 3,
   "metadata": {},
   "outputs": [],
   "source": [
    "\n",
    "def get_fund_details(url):\n",
    "    page = requests.get(url)\n",
    "    doc = lh.fromstring(page.content)\n",
    "    return_and_nav = doc.xpath('//ul/li/span[@class=\"value__nkb-6\"]')\n",
    "    return_avg = return_and_nav[0].text\n",
    "    net_asset = return_and_nav[1].text\n",
    "    returns_per_yr.append(return_avg)\n",
    "    NAV.append(net_asset)"
   ]
  },
  {
   "cell_type": "code",
   "execution_count": 4,
   "metadata": {},
   "outputs": [],
   "source": [
    "def get_funds(url):\n",
    "    page = requests.get(url)\n",
    "    doc = lh.fromstring(page.content)\n",
    "    tr_elements = doc.xpath('//tr')\n",
    "    col = []\n",
    "    i = 0\n",
    "    \n",
    "    for t in tr_elements[0]:\n",
    "        i+=1\n",
    "        name = t.text_content()\n",
    "        col.append((name,[]))\n",
    "    \n",
    "    for j in range(1,len(tr_elements)):\n",
    "        T = tr_elements[j]\n",
    "        if len(T)!=3:\n",
    "            break\n",
    "        i = 0\n",
    "        for t in T.iterchildren():\n",
    "            data = t.text_content()\n",
    "            if i>0:\n",
    "                try:\n",
    "                    data = int(data)\n",
    "                except:\n",
    "                    pass\n",
    "            col[i][1].append(data)\n",
    "            i+=1\n",
    "    \n",
    "    Dict = {title:column for (title,column) in col}\n",
    "    df = pd.DataFrame(Dict)\n",
    "    df = df.replace('\\r',\"\",regex=True)\n",
    "    df = df.replace('\\n',\"\",regex=True)\n",
    "    heading = []\n",
    "    for head in df.columns.tolist():\n",
    "        data = re.sub('\\n',\"\",head)\n",
    "        data = re.sub('\\r',\"\",data)\n",
    "        heading.append(data)\n",
    "    df.columns = heading\n",
    "    df = df.drop('Link',axis = 1)\n",
    "    \n",
    "    link = doc.xpath('//tr/td/p/a[@href]/@href')\n",
    "    link = list(dict.fromkeys(link))\n",
    "    df['Link'] = link\n",
    "    \n",
    "    \n",
    "    for l in df['Link']:\n",
    "        get_fund_details(l)\n",
    "    \n",
    "    df['Returns Per Year (5 year avg)'] = returns_per_yr\n",
    "    df['Net asset value'] = NAV\n",
    "    \n",
    "    df.to_csv(r'C:\\Users\\jsabh\\OneDrive\\Desktop\\finastra'+ '\\\\' + investment +'.csv',index = False)"
   ]
  },
  {
   "cell_type": "code",
   "execution_count": 5,
   "metadata": {},
   "outputs": [],
   "source": [
    "for url in URL_Dict:\n",
    "    investment = url\n",
    "    returns_per_yr = []\n",
    "    NAV = []\n",
    "    get_funds(URL_Dict[url])"
   ]
  },
  {
   "cell_type": "code",
   "execution_count": null,
   "metadata": {},
   "outputs": [],
   "source": []
  }
 ],
 "metadata": {
  "kernelspec": {
   "display_name": "Python 3",
   "language": "python",
   "name": "python3"
  },
  "language_info": {
   "codemirror_mode": {
    "name": "ipython",
    "version": 3
   },
   "file_extension": ".py",
   "mimetype": "text/x-python",
   "name": "python",
   "nbconvert_exporter": "python",
   "pygments_lexer": "ipython3",
   "version": "3.7.9"
  }
 },
 "nbformat": 4,
 "nbformat_minor": 4
}
