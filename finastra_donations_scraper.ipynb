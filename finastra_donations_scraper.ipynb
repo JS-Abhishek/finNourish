{
 "cells": [
  {
   "cell_type": "code",
   "execution_count": 1,
   "metadata": {},
   "outputs": [],
   "source": [
    "import requests\n",
    "import lxml.html as lh\n",
    "import pandas as pd\n",
    "import re"
   ]
  },
  {
   "cell_type": "code",
   "execution_count": 2,
   "metadata": {},
   "outputs": [],
   "source": [
    "def get_links(links,query):\n",
    "    try:\n",
    "        from googlesearch import search\n",
    "    except ImportError:\n",
    "        print(\"No module named google found\")\n",
    "    \n",
    "    for j in search(query,tld=\"co.in\",num=1,stop=1,pause=1):\n",
    "        links.append(j)"
   ]
  },
  {
   "cell_type": "code",
   "execution_count": 3,
   "metadata": {},
   "outputs": [],
   "source": [
    "def get_donations():\n",
    "    url = \"https://www.giveindia.org/certified-indian-ngos\"\n",
    "    page = requests.get(url)\n",
    "    doc = lh.fromstring(page.content)\n",
    "    tr_elements = doc.xpath('//tr')\n",
    "    col = []\n",
    "    i = 0\n",
    "    col.append(('Name',[]))\n",
    "    col.append(('Cause',[]))\n",
    "    col.append(('State',[]))\n",
    "    for j in range(1,len(tr_elements)):\n",
    "        T = tr_elements[j]\n",
    "        if len(T)!=3:\n",
    "            break\n",
    "        i = 0\n",
    "        for t in T.iterchildren():\n",
    "            data = t.text_content()\n",
    "            if i>0:\n",
    "                try:\n",
    "                    data = int(data)\n",
    "                except:\n",
    "                    pass\n",
    "            col[i][1].append(data)\n",
    "            i+=1\n",
    "    Dict = {title:column for (title,column) in col}  \n",
    "    df = pd.DataFrame(Dict)\n",
    "    links = []\n",
    "    for i in range(0,len(df)):\n",
    "        query = df['Name'][i]\n",
    "        get_links(links,query)\n",
    "    df['Links'] = links\n",
    "    df = df.sort_values(by=['Cause'],ignore_index=True)\n",
    "    df.to_csv(r\"C:\\Users\\jsabh\\OneDrive\\Desktop\\finastra\\donations.csv\",index=False)\n",
    "\n",
    "\n"
   ]
  },
  {
   "cell_type": "code",
   "execution_count": 4,
   "metadata": {},
   "outputs": [],
   "source": [
    "get_donations()"
   ]
  }
 ],
 "metadata": {
  "kernelspec": {
   "display_name": "Python 3",
   "language": "python",
   "name": "python3"
  },
  "language_info": {
   "codemirror_mode": {
    "name": "ipython",
    "version": 3
   },
   "file_extension": ".py",
   "mimetype": "text/x-python",
   "name": "python",
   "nbconvert_exporter": "python",
   "pygments_lexer": "ipython3",
   "version": "3.7.9"
  }
 },
 "nbformat": 4,
 "nbformat_minor": 4
}
