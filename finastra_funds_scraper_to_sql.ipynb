{
 "cells": [
  {
   "cell_type": "code",
   "execution_count": 1,
   "metadata": {},
   "outputs": [],
   "source": [
    "import requests\n",
    "import lxml.html as lh\n",
    "import pandas as pd\n",
    "import re\n",
    "import sqlite3 as sql\n",
    "from sqlite3 import Error\n",
    "from sqlalchemy import create_engine"
   ]
  },
  {
   "cell_type": "code",
   "execution_count": 2,
   "metadata": {},
   "outputs": [],
   "source": [
    "def get_fund_details(url,investment):\n",
    "    page = requests.get(url)\n",
    "    doc = lh.fromstring(page.content)\n",
    "    tr_elements = doc.xpath('//tr')\n",
    "    col = []\n",
    "    i = 0\n",
    "\n",
    "    for t in tr_elements[0]:\n",
    "        i+=1\n",
    "        name = t.text_content()\n",
    "        col.append((name,[]))\n",
    "    for j in range(1,len(tr_elements)):\n",
    "        T = tr_elements[j]\n",
    "        if len(T)!=7:\n",
    "            break\n",
    "        i = 0\n",
    "        for t in T.iterchildren():\n",
    "            data = t.text_content()\n",
    "            if i>0:\n",
    "                try:\n",
    "                    data = int(data)\n",
    "                except:\n",
    "                    pass\n",
    "            col[i][1].append(data)\n",
    "            i+=1\n",
    "    Dict = {title:column for (title,column) in col}\n",
    "    df = pd.DataFrame(Dict)\n",
    "    df = df.drop(axis=0,index=15)\n",
    "    link = doc.xpath('//tr/td/a[@href]/@href')\n",
    "    link = link[0:len(df)]\n",
    "    link = ['https://groww.in'+ x for x in link]\n",
    "    df['Link'] = link\n",
    "    df['Fund Type'] = investment\n",
    "    \n",
    "    return df \n",
    "    "
   ]
  },
  {
   "cell_type": "code",
   "execution_count": 3,
   "metadata": {},
   "outputs": [],
   "source": [
    "def mutual_funds_scraper():\n",
    "    URL_Dict = {\n",
    "            'Equity_Mutual_Funds':'https://groww.in/mutual-funds/category/best-equity-mutual-funds',\n",
    "            'Liquid_Mutual_Funds':'https://groww.in/mutual-funds/category/best-liquid-mutual-funds',\n",
    "            'Short_term_Mutual_Funds':'https://groww.in/mutual-funds/category/best-ultra-short-mutual-funds',\n",
    "            'Arbitrage_Mutual_Funds':'https://groww.in/mutual-funds/category/best-arbitrage-mutual-funds',\n",
    "            'Debt_Mutual_Funds':'https://groww.in/mutual-funds/category/best-debt-mutual-funds',\n",
    "            'Dynamic_Mutual_Funds':'https://groww.in/mutual-funds/category/best-dynamic-mutual-funds'}\n",
    "    df1 = pd.DataFrame()\n",
    "    for url in URL_Dict:\n",
    "        investment = url\n",
    "        df1 = df1.append(get_fund_details(URL_Dict[url],investment),ignore_index=True)\n",
    "    \n",
    "    return df1\n",
    "\n",
    "    "
   ]
  },
  {
   "cell_type": "code",
   "execution_count": 4,
   "metadata": {},
   "outputs": [],
   "source": [
    "def connect_to_db(db_file):\n",
    "    sql_conn = None\n",
    "    try:\n",
    "        sql_conn = sql.connect(db_file)\n",
    "        return sql_conn\n",
    "    except Error as err:\n",
    "        print(err)\n",
    "        \n",
    "        if sql_conn is not None:\n",
    "            sql_conn.close()    "
   ]
  },
  {
   "cell_type": "code",
   "execution_count": 5,
   "metadata": {},
   "outputs": [],
   "source": [
    "def insert_value_to_table(table_name,data_frame):\n",
    "    conn = connect_to_db(\"data.sqlite\")\n",
    "    if conn is not None:\n",
    "        c = conn.cursor()\n",
    "        c.execute('CREATE TABLE IF NOT EXISTS '+table_name+\n",
    "                  '(id                  INTEGER,'\n",
    "                  'listing_name         VARCHAR,'\n",
    "                  'listing_category     VARCHAR,'\n",
    "                  'listing_risk         VARCHAR,'\n",
    "                  'listing_1yreturns    VARCHAR,'\n",
    "                  'listing_rating       VARCHAR,'\n",
    "                  'listing_fund_size    VARCHAR,'\n",
    "                  'listing_link         VARCHAR,'\n",
    "                  'listing_fund_type    VARCHAR)')\n",
    "        df = data_frame\n",
    "        df.insert(0,'ID',df.index)\n",
    "        df = df.drop('',axis = 1)\n",
    "        df.columns = get_column_names_from_db_table(c,table_name)\n",
    "        df.to_sql(table_name,con=conn,if_exists='replace',index=False)\n",
    "        conn.commit()\n",
    "        conn.close()\n",
    "        print('SQL insert process finished')\n",
    "    else:\n",
    "        print('Connection to database failed')"
   ]
  },
  {
   "cell_type": "code",
   "execution_count": 6,
   "metadata": {},
   "outputs": [],
   "source": [
    "def get_column_names_from_db_table(sql_cursor,table_name):\n",
    "    table_column_names = \"PRAGMA table_info(\"+table_name+\");\"\n",
    "    sql_cursor.execute(table_column_names)\n",
    "    table_column_names = sql_cursor.fetchall()\n",
    "    \n",
    "    column_names = list()\n",
    "    for name in table_column_names:\n",
    "        column_names.append(name[1])\n",
    "    return column_names"
   ]
  },
  {
   "cell_type": "code",
   "execution_count": 17,
   "metadata": {},
   "outputs": [
    {
     "name": "stdout",
     "output_type": "stream",
     "text": [
      "SQL insert process finished\n"
     ]
    }
   ],
   "source": [
    "if __name__==\"__main__\":\n",
    "    final = mutual_funds_scraper()\n",
    "    insert_value_to_table('investments_list',final)"
   ]
  },
  {
   "cell_type": "code",
   "execution_count": null,
   "metadata": {},
   "outputs": [],
   "source": [
    "conn = sql.connect(\"fund.db\")\n",
    "cursor = conn.execute('''SELECT * FROM Table3''')\n",
    "for row in cursor:\n",
    "    print(row)"
   ]
  },
  {
   "cell_type": "code",
   "execution_count": 14,
   "metadata": {},
   "outputs": [],
   "source": [
    "final['ID'] = final.index + 1"
   ]
  },
  {
   "cell_type": "code",
   "execution_count": 16,
   "metadata": {},
   "outputs": [],
   "source": [
    "final = final.drop('Id',axis = 1)"
   ]
  },
  {
   "cell_type": "code",
   "execution_count": null,
   "metadata": {},
   "outputs": [],
   "source": []
  }
 ],
 "metadata": {
  "kernelspec": {
   "display_name": "Python 3",
   "language": "python",
   "name": "python3"
  },
  "language_info": {
   "codemirror_mode": {
    "name": "ipython",
    "version": 3
   },
   "file_extension": ".py",
   "mimetype": "text/x-python",
   "name": "python",
   "nbconvert_exporter": "python",
   "pygments_lexer": "ipython3",
   "version": "3.7.9"
  }
 },
 "nbformat": 4,
 "nbformat_minor": 4
}
